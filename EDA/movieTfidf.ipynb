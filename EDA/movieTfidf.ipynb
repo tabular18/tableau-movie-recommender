{
 "cells": [
  {
   "cell_type": "code",
   "execution_count": 2,
   "metadata": {},
   "outputs": [],
   "source": [
    "import pandas as pd\n",
    "import numpy as np\n",
    "import sklearn\n",
    "import nltk\n",
    "import re\n",
    "import string"
   ]
  },
  {
   "cell_type": "markdown",
   "metadata": {},
   "source": [
    "## Pivot Genre labels"
   ]
  },
  {
   "cell_type": "code",
   "execution_count": 3,
   "metadata": {},
   "outputs": [
    {
     "name": "stdout",
     "output_type": "stream",
     "text": [
      "<class 'pandas.core.frame.DataFrame'>\n",
      "RangeIndex: 9742 entries, 0 to 9741\n",
      "Data columns (total 6 columns):\n",
      " #   Column        Non-Null Count  Dtype \n",
      "---  ------        --------------  ----- \n",
      " 0   movieId       9742 non-null   int64 \n",
      " 1   title         9742 non-null   object\n",
      " 2   genres        9742 non-null   object\n",
      " 3   release_year  9742 non-null   object\n",
      " 4   film_title    9742 non-null   object\n",
      " 5   genres_raw    9742 non-null   object\n",
      "dtypes: int64(1), object(5)\n",
      "memory usage: 456.8+ KB\n"
     ]
    },
    {
     "data": {
      "text/plain": [
       "None"
      ]
     },
     "metadata": {},
     "output_type": "display_data"
    }
   ],
   "source": [
    "movielist=pd.read_csv('./Data/ml-latest-small/movies.csv')\n",
    "# get release year and clean film title\n",
    "movielist['release_year']=movielist.title.apply(lambda x: x.strip()[-5:].replace(')', '') if x[-1]==')' else 9999 )\n",
    "movielist['film_title']=movielist.apply(lambda x: x.title[:-6].strip() if x.release_year!=9999 else x.title , axis=1)\n",
    "movielist['genres_raw']=movielist.genres.apply(lambda x: x.replace('|', ', '))\n",
    "display(movielist.info())\n"
   ]
  },
  {
   "cell_type": "code",
   "execution_count": 4,
   "metadata": {},
   "outputs": [],
   "source": [
    "# define function to perform one-hot encoding (a column flag for each genre) and pivot data\n",
    "def create_genre_flags(df, col_list, id_vars=['movieId']):\n",
    "    print('Encoding the following genres: '+', '.join(col_list))\n",
    "    output=df.copy()\n",
    "    for each in col_list:\n",
    "        output[each]=output.genres.apply(lambda x: 1 if each in x else 0)\n",
    "    output=output.drop(['title', 'film_title', 'genres', 'genres_raw'], axis=1)\n",
    "    output=pd.melt(output, id_vars=id_vars)\n",
    "    output['attribute_type']='genre'\n",
    "    return output"
   ]
  },
  {
   "cell_type": "code",
   "execution_count": 5,
   "metadata": {},
   "outputs": [
    {
     "name": "stdout",
     "output_type": "stream",
     "text": [
      "Encoding the following genres: Adventure, Animation, Fantasy, Action, Sci-Fi, Mystery, Crime, IMAX, Horror, (no genres listed), War, Documentary, Thriller, Musical, Children, Comedy, Western, Drama, Romance, Film-Noir\n"
     ]
    },
    {
     "data": {
      "text/html": [
       "<div>\n",
       "<style scoped>\n",
       "    .dataframe tbody tr th:only-of-type {\n",
       "        vertical-align: middle;\n",
       "    }\n",
       "\n",
       "    .dataframe tbody tr th {\n",
       "        vertical-align: top;\n",
       "    }\n",
       "\n",
       "    .dataframe thead th {\n",
       "        text-align: right;\n",
       "    }\n",
       "</style>\n",
       "<table border=\"1\" class=\"dataframe\">\n",
       "  <thead>\n",
       "    <tr style=\"text-align: right;\">\n",
       "      <th></th>\n",
       "      <th>movieId</th>\n",
       "      <th>variable</th>\n",
       "      <th>value</th>\n",
       "      <th>attribute_type</th>\n",
       "    </tr>\n",
       "  </thead>\n",
       "  <tbody>\n",
       "    <tr>\n",
       "      <th>0</th>\n",
       "      <td>1</td>\n",
       "      <td>release_year</td>\n",
       "      <td>1995</td>\n",
       "      <td>genre</td>\n",
       "    </tr>\n",
       "    <tr>\n",
       "      <th>1</th>\n",
       "      <td>2</td>\n",
       "      <td>release_year</td>\n",
       "      <td>1995</td>\n",
       "      <td>genre</td>\n",
       "    </tr>\n",
       "    <tr>\n",
       "      <th>2</th>\n",
       "      <td>3</td>\n",
       "      <td>release_year</td>\n",
       "      <td>1995</td>\n",
       "      <td>genre</td>\n",
       "    </tr>\n",
       "    <tr>\n",
       "      <th>3</th>\n",
       "      <td>4</td>\n",
       "      <td>release_year</td>\n",
       "      <td>1995</td>\n",
       "      <td>genre</td>\n",
       "    </tr>\n",
       "    <tr>\n",
       "      <th>4</th>\n",
       "      <td>5</td>\n",
       "      <td>release_year</td>\n",
       "      <td>1995</td>\n",
       "      <td>genre</td>\n",
       "    </tr>\n",
       "  </tbody>\n",
       "</table>\n",
       "</div>"
      ],
      "text/plain": [
       "   movieId      variable value attribute_type\n",
       "0        1  release_year  1995          genre\n",
       "1        2  release_year  1995          genre\n",
       "2        3  release_year  1995          genre\n",
       "3        4  release_year  1995          genre\n",
       "4        5  release_year  1995          genre"
      ]
     },
     "execution_count": 5,
     "metadata": {},
     "output_type": "execute_result"
    }
   ],
   "source": [
    "# get list of all genres in data\n",
    "genres=list(set(np.concatenate(movielist.genres.str.split('|'))))\n",
    "\n",
    "# create one-hot flag per genre and pivot the data (wide to long)\n",
    "movie_genres_pivot=create_genre_flags(movielist, genres)\n",
    "movie_genres_pivot.head()\n",
    "\n"
   ]
  },
  {
   "cell_type": "code",
   "execution_count": 5,
   "metadata": {},
   "outputs": [
    {
     "data": {
      "text/plain": [
       "(204582, 4)"
      ]
     },
     "execution_count": 5,
     "metadata": {},
     "output_type": "execute_result"
    }
   ],
   "source": [
    "movie_genres_pivot.shape"
   ]
  },
  {
   "cell_type": "markdown",
   "metadata": {},
   "source": [
    "### User Tags: Create Tfidf vectors for each movie (combined user tags)"
   ]
  },
  {
   "cell_type": "code",
   "execution_count": 6,
   "metadata": {},
   "outputs": [
    {
     "name": "stdout",
     "output_type": "stream",
     "text": [
      "3683\n",
      "   userId  movieId              tag   timestamp\n",
      "0       2    60756            funny  1445714994\n",
      "1       2    60756  Highly quotable  1445714996\n",
      "2       2    60756     will ferrell  1445714992\n",
      "3       2    89774     Boxing story  1445715207\n",
      "4       2    89774              MMA  1445715200\n",
      "<class 'pandas.core.frame.DataFrame'>\n",
      "RangeIndex: 3683 entries, 0 to 3682\n",
      "Data columns (total 4 columns):\n",
      " #   Column     Non-Null Count  Dtype \n",
      "---  ------     --------------  ----- \n",
      " 0   userId     3683 non-null   int64 \n",
      " 1   movieId    3683 non-null   int64 \n",
      " 2   tag        3683 non-null   object\n",
      " 3   timestamp  3683 non-null   int64 \n",
      "dtypes: int64(3), object(1)\n",
      "memory usage: 115.2+ KB\n"
     ]
    },
    {
     "data": {
      "text/plain": [
       "None"
      ]
     },
     "metadata": {},
     "output_type": "display_data"
    }
   ],
   "source": [
    "#load data: one row per tag per movie per userId\n",
    "movietags=pd.read_csv('./Data/ml-latest-small/tags.csv')\n",
    "\n",
    "print(len(movietags))\n",
    "print(movietags.head())\n",
    "display(movietags.info())"
   ]
  },
  {
   "cell_type": "code",
   "execution_count": 7,
   "metadata": {},
   "outputs": [
    {
     "data": {
      "text/html": [
       "<div>\n",
       "<style scoped>\n",
       "    .dataframe tbody tr th:only-of-type {\n",
       "        vertical-align: middle;\n",
       "    }\n",
       "\n",
       "    .dataframe tbody tr th {\n",
       "        vertical-align: top;\n",
       "    }\n",
       "\n",
       "    .dataframe thead th {\n",
       "        text-align: right;\n",
       "    }\n",
       "</style>\n",
       "<table border=\"1\" class=\"dataframe\">\n",
       "  <thead>\n",
       "    <tr style=\"text-align: right;\">\n",
       "      <th></th>\n",
       "      <th>movieId</th>\n",
       "      <th>combined_tags</th>\n",
       "    </tr>\n",
       "  </thead>\n",
       "  <tbody>\n",
       "    <tr>\n",
       "      <th>0</th>\n",
       "      <td>1</td>\n",
       "      <td>pixar pixar fun</td>\n",
       "    </tr>\n",
       "    <tr>\n",
       "      <th>1</th>\n",
       "      <td>2</td>\n",
       "      <td>fantasy magic board game Robin Williams game</td>\n",
       "    </tr>\n",
       "    <tr>\n",
       "      <th>2</th>\n",
       "      <td>3</td>\n",
       "      <td>moldy old</td>\n",
       "    </tr>\n",
       "    <tr>\n",
       "      <th>3</th>\n",
       "      <td>5</td>\n",
       "      <td>pregnancy remake</td>\n",
       "    </tr>\n",
       "    <tr>\n",
       "      <th>4</th>\n",
       "      <td>7</td>\n",
       "      <td>remake</td>\n",
       "    </tr>\n",
       "  </tbody>\n",
       "</table>\n",
       "</div>"
      ],
      "text/plain": [
       "   movieId                                 combined_tags\n",
       "0        1                               pixar pixar fun\n",
       "1        2  fantasy magic board game Robin Williams game\n",
       "2        3                                     moldy old\n",
       "3        5                              pregnancy remake\n",
       "4        7                                        remake"
      ]
     },
     "execution_count": 7,
     "metadata": {},
     "output_type": "execute_result"
    }
   ],
   "source": [
    "# Starting with a per-movie focus rather than retaining any user information (e.g. content based rather than collaborative)\n",
    "# not removing any duplicate tags, as the count of occurences could impact the tfidf value\n",
    "movietags=pd.DataFrame(movietags.groupby('movieId')['tag'].apply(' '.join)).reset_index()\n",
    "movietags=movietags.rename(columns={'tag': 'combined_tags'})\n",
    "movietags.head()"
   ]
  },
  {
   "cell_type": "code",
   "execution_count": null,
   "metadata": {},
   "outputs": [],
   "source": [
    "punctuation / lower case / stop words"
   ]
  },
  {
   "cell_type": "code",
   "execution_count": 67,
   "metadata": {},
   "outputs": [
    {
     "name": "stdout",
     "output_type": "stream",
     "text": [
      "(1572, 1745)\n"
     ]
    },
    {
     "data": {
      "text/html": [
       "<div>\n",
       "<style scoped>\n",
       "    .dataframe tbody tr th:only-of-type {\n",
       "        vertical-align: middle;\n",
       "    }\n",
       "\n",
       "    .dataframe tbody tr th {\n",
       "        vertical-align: top;\n",
       "    }\n",
       "\n",
       "    .dataframe thead th {\n",
       "        text-align: right;\n",
       "    }\n",
       "</style>\n",
       "<table border=\"1\" class=\"dataframe\">\n",
       "  <thead>\n",
       "    <tr style=\"text-align: right;\">\n",
       "      <th></th>\n",
       "      <th>movieId</th>\n",
       "      <th>06</th>\n",
       "      <th>1900s</th>\n",
       "      <th>1920s</th>\n",
       "      <th>1950s</th>\n",
       "      <th>1960s</th>\n",
       "      <th>1970s</th>\n",
       "      <th>1980s</th>\n",
       "      <th>1990s</th>\n",
       "      <th>2001</th>\n",
       "      <th>...</th>\n",
       "      <th>york</th>\n",
       "      <th>you</th>\n",
       "      <th>younger</th>\n",
       "      <th>your</th>\n",
       "      <th>zellweger</th>\n",
       "      <th>zither</th>\n",
       "      <th>zoe</th>\n",
       "      <th>zombie</th>\n",
       "      <th>zombies</th>\n",
       "      <th>zooey</th>\n",
       "    </tr>\n",
       "  </thead>\n",
       "  <tbody>\n",
       "    <tr>\n",
       "      <th>0</th>\n",
       "      <td>1</td>\n",
       "      <td>0.0</td>\n",
       "      <td>0.0</td>\n",
       "      <td>0.0</td>\n",
       "      <td>0.0</td>\n",
       "      <td>0.0</td>\n",
       "      <td>0.0</td>\n",
       "      <td>0.0</td>\n",
       "      <td>0.0</td>\n",
       "      <td>0.0</td>\n",
       "      <td>...</td>\n",
       "      <td>0.0</td>\n",
       "      <td>0.0</td>\n",
       "      <td>0.0</td>\n",
       "      <td>0.0</td>\n",
       "      <td>0.0</td>\n",
       "      <td>0.0</td>\n",
       "      <td>0.0</td>\n",
       "      <td>0.0</td>\n",
       "      <td>0.0</td>\n",
       "      <td>0.0</td>\n",
       "    </tr>\n",
       "    <tr>\n",
       "      <th>1</th>\n",
       "      <td>2</td>\n",
       "      <td>0.0</td>\n",
       "      <td>0.0</td>\n",
       "      <td>0.0</td>\n",
       "      <td>0.0</td>\n",
       "      <td>0.0</td>\n",
       "      <td>0.0</td>\n",
       "      <td>0.0</td>\n",
       "      <td>0.0</td>\n",
       "      <td>0.0</td>\n",
       "      <td>...</td>\n",
       "      <td>0.0</td>\n",
       "      <td>0.0</td>\n",
       "      <td>0.0</td>\n",
       "      <td>0.0</td>\n",
       "      <td>0.0</td>\n",
       "      <td>0.0</td>\n",
       "      <td>0.0</td>\n",
       "      <td>0.0</td>\n",
       "      <td>0.0</td>\n",
       "      <td>0.0</td>\n",
       "    </tr>\n",
       "    <tr>\n",
       "      <th>2</th>\n",
       "      <td>3</td>\n",
       "      <td>0.0</td>\n",
       "      <td>0.0</td>\n",
       "      <td>0.0</td>\n",
       "      <td>0.0</td>\n",
       "      <td>0.0</td>\n",
       "      <td>0.0</td>\n",
       "      <td>0.0</td>\n",
       "      <td>0.0</td>\n",
       "      <td>0.0</td>\n",
       "      <td>...</td>\n",
       "      <td>0.0</td>\n",
       "      <td>0.0</td>\n",
       "      <td>0.0</td>\n",
       "      <td>0.0</td>\n",
       "      <td>0.0</td>\n",
       "      <td>0.0</td>\n",
       "      <td>0.0</td>\n",
       "      <td>0.0</td>\n",
       "      <td>0.0</td>\n",
       "      <td>0.0</td>\n",
       "    </tr>\n",
       "    <tr>\n",
       "      <th>3</th>\n",
       "      <td>5</td>\n",
       "      <td>0.0</td>\n",
       "      <td>0.0</td>\n",
       "      <td>0.0</td>\n",
       "      <td>0.0</td>\n",
       "      <td>0.0</td>\n",
       "      <td>0.0</td>\n",
       "      <td>0.0</td>\n",
       "      <td>0.0</td>\n",
       "      <td>0.0</td>\n",
       "      <td>...</td>\n",
       "      <td>0.0</td>\n",
       "      <td>0.0</td>\n",
       "      <td>0.0</td>\n",
       "      <td>0.0</td>\n",
       "      <td>0.0</td>\n",
       "      <td>0.0</td>\n",
       "      <td>0.0</td>\n",
       "      <td>0.0</td>\n",
       "      <td>0.0</td>\n",
       "      <td>0.0</td>\n",
       "    </tr>\n",
       "    <tr>\n",
       "      <th>4</th>\n",
       "      <td>7</td>\n",
       "      <td>0.0</td>\n",
       "      <td>0.0</td>\n",
       "      <td>0.0</td>\n",
       "      <td>0.0</td>\n",
       "      <td>0.0</td>\n",
       "      <td>0.0</td>\n",
       "      <td>0.0</td>\n",
       "      <td>0.0</td>\n",
       "      <td>0.0</td>\n",
       "      <td>...</td>\n",
       "      <td>0.0</td>\n",
       "      <td>0.0</td>\n",
       "      <td>0.0</td>\n",
       "      <td>0.0</td>\n",
       "      <td>0.0</td>\n",
       "      <td>0.0</td>\n",
       "      <td>0.0</td>\n",
       "      <td>0.0</td>\n",
       "      <td>0.0</td>\n",
       "      <td>0.0</td>\n",
       "    </tr>\n",
       "  </tbody>\n",
       "</table>\n",
       "<p>5 rows × 1745 columns</p>\n",
       "</div>"
      ],
      "text/plain": [
       "   movieId   06  1900s  1920s  1950s  1960s  1970s  1980s  1990s  2001  ...  \\\n",
       "0        1  0.0    0.0    0.0    0.0    0.0    0.0    0.0    0.0   0.0  ...   \n",
       "1        2  0.0    0.0    0.0    0.0    0.0    0.0    0.0    0.0   0.0  ...   \n",
       "2        3  0.0    0.0    0.0    0.0    0.0    0.0    0.0    0.0   0.0  ...   \n",
       "3        5  0.0    0.0    0.0    0.0    0.0    0.0    0.0    0.0   0.0  ...   \n",
       "4        7  0.0    0.0    0.0    0.0    0.0    0.0    0.0    0.0   0.0  ...   \n",
       "\n",
       "   york  you  younger  your  zellweger  zither  zoe  zombie  zombies  zooey  \n",
       "0   0.0  0.0      0.0   0.0        0.0     0.0  0.0     0.0      0.0    0.0  \n",
       "1   0.0  0.0      0.0   0.0        0.0     0.0  0.0     0.0      0.0    0.0  \n",
       "2   0.0  0.0      0.0   0.0        0.0     0.0  0.0     0.0      0.0    0.0  \n",
       "3   0.0  0.0      0.0   0.0        0.0     0.0  0.0     0.0      0.0    0.0  \n",
       "4   0.0  0.0      0.0   0.0        0.0     0.0  0.0     0.0      0.0    0.0  \n",
       "\n",
       "[5 rows x 1745 columns]"
      ]
     },
     "execution_count": 67,
     "metadata": {},
     "output_type": "execute_result"
    }
   ],
   "source": [
    "#initializing tfidf vectorizer\n",
    "from sklearn.feature_extraction.text import TfidfVectorizer\n",
    "tfidf_vectorizer = TfidfVectorizer()\n",
    "\n",
    "tfidf_jobid = tfidf_vectorizer.fit_transform(movietags['combined_tags']) #fitting and transforming the vector\n",
    "\n",
    "# concatenate data to include all word vectors per movieId\n",
    "perMovieVectors=pd.DataFrame(tfidf_jobid.toarray(), columns=tfidf_vectorizer.get_feature_names_out())\n",
    "perMovieVectors=pd.concat([movietags.movieId, perMovieVectors], axis=1)\n",
    "print(perMovieVectors.shape)\n",
    "perMovieVectors.head()"
   ]
  },
  {
   "cell_type": "code",
   "execution_count": 68,
   "metadata": {},
   "outputs": [
    {
     "data": {
      "text/html": [
       "<div>\n",
       "<style scoped>\n",
       "    .dataframe tbody tr th:only-of-type {\n",
       "        vertical-align: middle;\n",
       "    }\n",
       "\n",
       "    .dataframe tbody tr th {\n",
       "        vertical-align: top;\n",
       "    }\n",
       "\n",
       "    .dataframe thead th {\n",
       "        text-align: right;\n",
       "    }\n",
       "</style>\n",
       "<table border=\"1\" class=\"dataframe\">\n",
       "  <thead>\n",
       "    <tr style=\"text-align: right;\">\n",
       "      <th></th>\n",
       "      <th>movieId</th>\n",
       "      <th>variable</th>\n",
       "      <th>value</th>\n",
       "      <th>attribute_type</th>\n",
       "    </tr>\n",
       "  </thead>\n",
       "  <tbody>\n",
       "    <tr>\n",
       "      <th>0</th>\n",
       "      <td>1</td>\n",
       "      <td>06</td>\n",
       "      <td>0.0</td>\n",
       "      <td>Tfidf</td>\n",
       "    </tr>\n",
       "    <tr>\n",
       "      <th>1</th>\n",
       "      <td>2</td>\n",
       "      <td>06</td>\n",
       "      <td>0.0</td>\n",
       "      <td>Tfidf</td>\n",
       "    </tr>\n",
       "    <tr>\n",
       "      <th>2</th>\n",
       "      <td>3</td>\n",
       "      <td>06</td>\n",
       "      <td>0.0</td>\n",
       "      <td>Tfidf</td>\n",
       "    </tr>\n",
       "    <tr>\n",
       "      <th>3</th>\n",
       "      <td>5</td>\n",
       "      <td>06</td>\n",
       "      <td>0.0</td>\n",
       "      <td>Tfidf</td>\n",
       "    </tr>\n",
       "    <tr>\n",
       "      <th>4</th>\n",
       "      <td>7</td>\n",
       "      <td>06</td>\n",
       "      <td>0.0</td>\n",
       "      <td>Tfidf</td>\n",
       "    </tr>\n",
       "  </tbody>\n",
       "</table>\n",
       "</div>"
      ],
      "text/plain": [
       "   movieId variable  value attribute_type\n",
       "0        1       06    0.0          Tfidf\n",
       "1        2       06    0.0          Tfidf\n",
       "2        3       06    0.0          Tfidf\n",
       "3        5       06    0.0          Tfidf\n",
       "4        7       06    0.0          Tfidf"
      ]
     },
     "execution_count": 68,
     "metadata": {},
     "output_type": "execute_result"
    }
   ],
   "source": [
    "# Pivot data from wide to long, attribute type = tfidf\n",
    "movie_tags_pivot=pd.melt(perMovieVectors, id_vars=['movieId'])\n",
    "movie_tags_pivot['attribute_type']='Tfidf'\n",
    "movie_tags_pivot.head()\n"
   ]
  },
  {
   "cell_type": "code",
   "execution_count": 6,
   "metadata": {},
   "outputs": [
    {
     "data": {
      "text/plain": [
       "(2741568, 4)"
      ]
     },
     "execution_count": 6,
     "metadata": {},
     "output_type": "execute_result"
    }
   ],
   "source": [
    "movie_tags_pivot.shape"
   ]
  },
  {
   "cell_type": "markdown",
   "metadata": {},
   "source": [
    "# Scrape more text using imdb link"
   ]
  },
  {
   "cell_type": "code",
   "execution_count": 6,
   "metadata": {},
   "outputs": [],
   "source": [
    "links = pd.read_csv('./Data/ml-latest-small/links.csv')\n",
    "movielist=pd.merge(movielist, links, on='movieId', how='left')\n"
   ]
  },
  {
   "cell_type": "markdown",
   "metadata": {},
   "source": [
    "#### Using tmDB api\n",
    "https://developer.themoviedb.org/docs"
   ]
  },
  {
   "cell_type": "code",
   "execution_count": 1,
   "metadata": {},
   "outputs": [
    {
     "name": "stdout",
     "output_type": "stream",
     "text": [
      "Led by Woody, Andy's toys live happily in his room until Andy's birthday brings Buzz Lightyear onto the scene. Afraid of losing his place in Andy's heart, Woody plots against Buzz. But when circumstances separate Buzz and Woody from their owner, the duo eventually learns to put aside their differences.\n"
     ]
    }
   ],
   "source": [
    "from tmdbv3api import TMDb\n",
    "from tmdbv3api import Movie\n",
    "tmdb = TMDb()\n",
    "tmdb.api_key = '2837bf413a057f0237648c0dcd78d017'\n",
    "tmdb.language = 'en'\n",
    "tmdb.debug = True\n",
    "\n",
    "movie = Movie()\n",
    "# for example the movie with id=862\n",
    "m = movie.details(862)\n",
    "print (m.overview)"
   ]
  },
  {
   "cell_type": "code",
   "execution_count": 4,
   "metadata": {},
   "outputs": [
    {
     "data": {
      "text/html": [
       "<div>\n",
       "<style scoped>\n",
       "    .dataframe tbody tr th:only-of-type {\n",
       "        vertical-align: middle;\n",
       "    }\n",
       "\n",
       "    .dataframe tbody tr th {\n",
       "        vertical-align: top;\n",
       "    }\n",
       "\n",
       "    .dataframe thead th {\n",
       "        text-align: right;\n",
       "    }\n",
       "</style>\n",
       "<table border=\"1\" class=\"dataframe\">\n",
       "  <thead>\n",
       "    <tr style=\"text-align: right;\">\n",
       "      <th></th>\n",
       "      <th>movieId</th>\n",
       "      <th>title</th>\n",
       "      <th>genres</th>\n",
       "      <th>release_year</th>\n",
       "      <th>film_title</th>\n",
       "      <th>imdbId</th>\n",
       "      <th>tmdbId</th>\n",
       "      <th>description</th>\n",
       "    </tr>\n",
       "  </thead>\n",
       "  <tbody>\n",
       "    <tr>\n",
       "      <th>0</th>\n",
       "      <td>1</td>\n",
       "      <td>Toy Story (1995)</td>\n",
       "      <td>Adventure|Animation|Children|Comedy|Fantasy</td>\n",
       "      <td>1995</td>\n",
       "      <td>Toy Story</td>\n",
       "      <td>114709</td>\n",
       "      <td>862.0</td>\n",
       "      <td>Led by Woody, Andy's toys live happily in his ...</td>\n",
       "    </tr>\n",
       "    <tr>\n",
       "      <th>1</th>\n",
       "      <td>2</td>\n",
       "      <td>Jumanji (1995)</td>\n",
       "      <td>Adventure|Children|Fantasy</td>\n",
       "      <td>1995</td>\n",
       "      <td>Jumanji</td>\n",
       "      <td>113497</td>\n",
       "      <td>8844.0</td>\n",
       "      <td>When siblings Judy and Peter discover an encha...</td>\n",
       "    </tr>\n",
       "    <tr>\n",
       "      <th>2</th>\n",
       "      <td>3</td>\n",
       "      <td>Grumpier Old Men (1995)</td>\n",
       "      <td>Comedy|Romance</td>\n",
       "      <td>1995</td>\n",
       "      <td>Grumpier Old Men</td>\n",
       "      <td>113228</td>\n",
       "      <td>15602.0</td>\n",
       "      <td>A family wedding reignites the ancient feud be...</td>\n",
       "    </tr>\n",
       "    <tr>\n",
       "      <th>3</th>\n",
       "      <td>4</td>\n",
       "      <td>Waiting to Exhale (1995)</td>\n",
       "      <td>Comedy|Drama|Romance</td>\n",
       "      <td>1995</td>\n",
       "      <td>Waiting to Exhale</td>\n",
       "      <td>114885</td>\n",
       "      <td>31357.0</td>\n",
       "      <td>Cheated on, mistreated and stepped on, the wom...</td>\n",
       "    </tr>\n",
       "    <tr>\n",
       "      <th>4</th>\n",
       "      <td>5</td>\n",
       "      <td>Father of the Bride Part II (1995)</td>\n",
       "      <td>Comedy</td>\n",
       "      <td>1995</td>\n",
       "      <td>Father of the Bride Part II</td>\n",
       "      <td>113041</td>\n",
       "      <td>11862.0</td>\n",
       "      <td>Just when George Banks has recovered from his ...</td>\n",
       "    </tr>\n",
       "  </tbody>\n",
       "</table>\n",
       "</div>"
      ],
      "text/plain": [
       "   movieId                               title  \\\n",
       "0        1                    Toy Story (1995)   \n",
       "1        2                      Jumanji (1995)   \n",
       "2        3             Grumpier Old Men (1995)   \n",
       "3        4            Waiting to Exhale (1995)   \n",
       "4        5  Father of the Bride Part II (1995)   \n",
       "\n",
       "                                        genres release_year  \\\n",
       "0  Adventure|Animation|Children|Comedy|Fantasy         1995   \n",
       "1                   Adventure|Children|Fantasy         1995   \n",
       "2                               Comedy|Romance         1995   \n",
       "3                         Comedy|Drama|Romance         1995   \n",
       "4                                       Comedy         1995   \n",
       "\n",
       "                    film_title  imdbId   tmdbId  \\\n",
       "0                    Toy Story  114709    862.0   \n",
       "1                      Jumanji  113497   8844.0   \n",
       "2             Grumpier Old Men  113228  15602.0   \n",
       "3            Waiting to Exhale  114885  31357.0   \n",
       "4  Father of the Bride Part II  113041  11862.0   \n",
       "\n",
       "                                         description  \n",
       "0  Led by Woody, Andy's toys live happily in his ...  \n",
       "1  When siblings Judy and Peter discover an encha...  \n",
       "2  A family wedding reignites the ancient feud be...  \n",
       "3  Cheated on, mistreated and stepped on, the wom...  \n",
       "4  Just when George Banks has recovered from his ...  "
      ]
     },
     "execution_count": 4,
     "metadata": {},
     "output_type": "execute_result"
    }
   ],
   "source": [
    "## 1000 rows took 10.5 mins\n",
    "\n",
    "from tmdbv3api import TMDb\n",
    "from tmdbv3api import Movie\n",
    "tmdb = TMDb()\n",
    "tmdb.api_key = '2837bf413a057f0237648c0dcd78d017'\n",
    "tmdb.language = 'en'\n",
    "tmdb.debug = True\n",
    "\n",
    "movie = Movie()\n",
    "def get_overview(tmdbMovie, id):\n",
    "    try:\n",
    "        out=tmdbMovie.details(id).overview\n",
    "    except:\n",
    "        out='NA'\n",
    "        pass\n",
    "    return out\n",
    "mini=movielist[:1001].copy()\n",
    "mini['description']=mini.tmdbId.apply(lambda x: get_overview(movie, x))\n",
    "mini.to_csv('./Data/ml-latest-small/movie_links_text_1000.csv', index=False)\n",
    "mini.head()\n"
   ]
  },
  {
   "cell_type": "code",
   "execution_count": null,
   "metadata": {},
   "outputs": [],
   "source": []
  },
  {
   "cell_type": "code",
   "execution_count": 10,
   "metadata": {},
   "outputs": [
    {
     "data": {
      "text/plain": [
       "'NA'"
      ]
     },
     "execution_count": 10,
     "metadata": {},
     "output_type": "execute_result"
    }
   ],
   "source": [
    "#check that exception works\n",
    "get_overview(movie, 293894059718)"
   ]
  },
  {
   "cell_type": "code",
   "execution_count": 7,
   "metadata": {},
   "outputs": [
    {
     "name": "stdout",
     "output_type": "stream",
     "text": [
      "rows 1001 to 1501 complete\n",
      "rows 1501 to 2001 complete\n",
      "rows 2001 to 2501 complete\n",
      "rows 2501 to 3001 complete\n",
      "rows 3001 to 3501 complete\n",
      "rows 3501 to 4001 complete\n",
      "rows 4001 to 4501 complete\n",
      "rows 4501 to 5001 complete\n",
      "rows 5001 to 5501 complete\n",
      "rows 5501 to 6001 complete\n",
      "rows 6001 to 6501 complete\n",
      "rows 6501 to 7001 complete\n",
      "rows 7001 to 7501 complete\n",
      "rows 7501 to 8001 complete\n",
      "rows 8001 to 8501 complete\n",
      "rows 8501 to 9001 complete\n",
      "rows 9001 to 9501 complete\n",
      "rows 9501 to 9742 complete\n"
     ]
    }
   ],
   "source": [
    "# batches of 500\n",
    "for each in range(1001, len(movielist), 500):\n",
    "    mini=movielist[each:min(each+500, len(movielist))].copy()\n",
    "    mini['description']=mini.tmdbId.apply(lambda x: get_overview(movie, x))\n",
    "    print(f'rows {each} to {min(each+500, len(movielist))} complete')\n",
    "    mini.to_csv(f'./Data/ml-latest-small/movie_links_text_{each}_to_{min(each+500, len(movielist))}.csv', index=False)"
   ]
  },
  {
   "cell_type": "markdown",
   "metadata": {},
   "source": [
    "### Clean text & generate Tfidf features"
   ]
  },
  {
   "cell_type": "code",
   "execution_count": 8,
   "metadata": {},
   "outputs": [
    {
     "name": "stdout",
     "output_type": "stream",
     "text": [
      "<class 'pandas.core.frame.DataFrame'>\n",
      "RangeIndex: 9742 entries, 0 to 9741\n",
      "Data columns (total 8 columns):\n",
      " #   Column        Non-Null Count  Dtype  \n",
      "---  ------        --------------  -----  \n",
      " 0   movieId       9742 non-null   int64  \n",
      " 1   title         9742 non-null   object \n",
      " 2   genres        9742 non-null   object \n",
      " 3   release_year  9742 non-null   int64  \n",
      " 4   film_title    9742 non-null   object \n",
      " 5   imdbId        9742 non-null   int64  \n",
      " 6   tmdbId        9734 non-null   float64\n",
      " 7   description   9742 non-null   object \n",
      "dtypes: float64(1), int64(3), object(4)\n",
      "memory usage: 609.0+ KB\n"
     ]
    }
   ],
   "source": [
    "# combine all description files then clean text etc\n",
    "moviedesc=pd.read_csv('./Data/ml-latest-small/movie_links_text_1000.csv')\n",
    "for each in range(1001, len(movielist), 500):\n",
    "    mini=pd.read_csv(f'./Data/ml-latest-small/movie_links_text_{each}_to_{min(each+500, len(movielist))}.csv')\n",
    "    moviedesc=pd.concat([moviedesc, mini], axis=0)\n",
    "\n",
    "moviedesc=moviedesc.reset_index(drop=True)\n",
    "moviedesc['description'] = moviedesc['description'].astype(str)\n",
    "moviedesc.info()"
   ]
  },
  {
   "cell_type": "code",
   "execution_count": 99,
   "metadata": {},
   "outputs": [
    {
     "name": "stderr",
     "output_type": "stream",
     "text": [
      "[nltk_data] Downloading package punkt to\n",
      "[nltk_data]     C:\\Users\\helen\\AppData\\Roaming\\nltk_data...\n",
      "[nltk_data]   Package punkt is already up-to-date!\n",
      "[nltk_data] Downloading package wordnet to\n",
      "[nltk_data]     C:\\Users\\helen\\AppData\\Roaming\\nltk_data...\n",
      "[nltk_data]   Package wordnet is already up-to-date!\n"
     ]
    }
   ],
   "source": [
    "\n",
    "#import nltk\n",
    "#nltk.download('stopwords')\n",
    "nltk.download('punkt')\n",
    "nltk.download('wordnet')\n",
    "from nltk.corpus import stopwords\n",
    "import re\n",
    "import string\n",
    "from nltk.stem import WordNetLemmatizer, PorterStemmer\n",
    "from nltk import word_tokenize\n",
    "\n",
    "\n",
    "from nltk.corpus import stopwords\n",
    "stop = stopwords.words('english')\n",
    "stop_words_ = set(stopwords.words('english'))\n",
    "wn = WordNetLemmatizer()\n",
    "ps=PorterStemmer()\n",
    "\n",
    "def black_txt(token):\n",
    "    token=ps.stem(token)\n",
    "    return  token not in stop_words_ and token not in list(string.punctuation)  and len(token)>2   \n",
    "  \n",
    "def clean_txt(text):\n",
    "  clean_text = []\n",
    "  clean_text2 = []\n",
    "  text = re.sub(\"'\", \"\",text)\n",
    "  text=re.sub(\"(\\\\d|\\\\W)+\",\" \",text) \n",
    "  # text = text.replace(\"nbsp\", \"\")\n",
    "  clean_text = [ wn.lemmatize(word) for word in word_tokenize(text.lower()) if black_txt(word)]\n",
    "  clean_text2 = [word for word in clean_text if black_txt(word)]\n",
    "  return \" \".join(clean_text2)"
   ]
  },
  {
   "cell_type": "code",
   "execution_count": 100,
   "metadata": {},
   "outputs": [
    {
     "name": "stdout",
     "output_type": "stream",
     "text": [
      "(9742, 6945)\n"
     ]
    }
   ],
   "source": [
    "\n",
    "moviedesc['clean_description'] = moviedesc['description'].apply(clean_txt)\n",
    "\n",
    "#initializing tfidf vectorizer\n",
    "from sklearn.feature_extraction.text import TfidfVectorizer\n",
    "tfidf_vectorizer = TfidfVectorizer(min_df=5)\n",
    "\n",
    "tfidf_jobid = tfidf_vectorizer.fit_transform(moviedesc['clean_description']) #fitting and transforming the vector\n",
    "\n",
    "# concatenate data to include all word vectors per movieId\n",
    "moviedesc=pd.concat([moviedesc, pd.DataFrame(tfidf_jobid.toarray(), columns=tfidf_vectorizer.get_feature_names_out())], axis=1)\n",
    "print(moviedesc.shape)\n",
    "\n"
   ]
  },
  {
   "cell_type": "code",
   "execution_count": 101,
   "metadata": {},
   "outputs": [
    {
     "data": {
      "text/plain": [
       "array([['andys'],\n",
       "       ['game'],\n",
       "       ['max'],\n",
       "       ...,\n",
       "       ['flint'],\n",
       "       ['user'],\n",
       "       ['sketch']], dtype=object)"
      ]
     },
     "execution_count": 101,
     "metadata": {},
     "output_type": "execute_result"
    }
   ],
   "source": [
    "feature_names = np.array(tfidf_vectorizer.get_feature_names_out() )\n",
    "top_term=feature_names[tfidf_jobid.argmax(axis=1)]\n",
    "top_term"
   ]
  },
  {
   "cell_type": "code",
   "execution_count": 102,
   "metadata": {},
   "outputs": [
    {
     "data": {
      "text/plain": [
       "0    led woody andys toy live happily room andys birthday brings buzz lightyear onto scene afraid losing place andys heart woody plot buzz circumstance separate buzz woody owner duo eventually learns put aside difference                                                  \n",
       "1    sibling judy peter discover enchanted board game open door magical world unwittingly invite alan adult trapped inside game year living room alans only hope freedom finish game prof risky three find themselves running giant rhinoceros evil monkey terrifying creature\n",
       "2    family wedding reignites ancient feud next door neighbor fishing buddy john max meanwhile sultry italian divorcée open restaurant local bait shop alarming local worry shell scare fish away interested seafood cooking hot time max                                     \n",
       "3    cheated mistreated stepped woman holding breath waiting elusive good man break string stellar lover friend confidant vannah bernie glo robin talk determined find better way breathe                                                                                     \n",
       "4    george bank recovered daughter wedding receives news pregnant george wife expecting planning selling home plan like george change arrival grandchild kid                                                                                                                 \n",
       "Name: clean_description, dtype: object"
      ]
     },
     "execution_count": 102,
     "metadata": {},
     "output_type": "execute_result"
    }
   ],
   "source": [
    "pd.options.display.max_colwidth=False\n",
    "moviedesc.clean_description[:5]"
   ]
  },
  {
   "cell_type": "code",
   "execution_count": 108,
   "metadata": {},
   "outputs": [
    {
     "data": {
      "text/plain": [
       "array([['andys', 'buzz', 'woody', 'afraid', 'aside', 'toy', 'separate',\n",
       "        'onto', 'happily', 'difference', 'circumstance', 'duo',\n",
       "        'birthday', 'losing', 'room'],\n",
       "       ['game', 'risky', 'enchanted', 'judy', 'monkey', 'alan', 'finish',\n",
       "        'unwittingly', 'sibling', 'invite', 'board', 'freedom', 'prof',\n",
       "        'terrifying', 'running'],\n",
       "       ['max', 'local', 'divorcée', 'cooking', 'feud', 'scare', 'worry',\n",
       "        'interested', 'fishing', 'fish', 'shell', 'restaurant',\n",
       "        'italian', 'hot', 'shop'],\n",
       "       ['stepped', 'cheated', 'bernie', 'elusive', 'holding', 'string',\n",
       "        'robin', 'waiting', 'talk', 'better', 'lover', 'determined',\n",
       "        'break', 'good', 'way'],\n",
       "       ['george', 'expecting', 'selling', 'planning', 'receives',\n",
       "        'arrival', 'news', 'pregnant', 'wedding', 'bank', 'kid',\n",
       "        'change', 'like', 'plan', 'daughter']], dtype=object)"
      ]
     },
     "execution_count": 108,
     "metadata": {},
     "output_type": "execute_result"
    }
   ],
   "source": [
    "tfarray=tfidf_jobid[:5].toarray()\n",
    "feature_names[np.argsort(-tfarray, axis=-1)[:, :15]]"
   ]
  },
  {
   "cell_type": "code",
   "execution_count": 16,
   "metadata": {},
   "outputs": [
    {
     "data": {
      "text/plain": [
       "(   movieId variable  value     attribute_type\n",
       " 0        1    aaron    0.0  description_Tfidf\n",
       " 1        2    aaron    0.0  description_Tfidf\n",
       " 2        3    aaron    0.0  description_Tfidf\n",
       " 3        4    aaron    0.0  description_Tfidf\n",
       " 4        5    aaron    0.0  description_Tfidf,\n",
       " (67619222, 4))"
      ]
     },
     "execution_count": 16,
     "metadata": {},
     "output_type": "execute_result"
    }
   ],
   "source": [
    "# Pivot data from wide to long, attribute type = description tfidf\n",
    "moviedescpivot=pd.melt(moviedesc.drop(columns=[ 'title','genres','release_year','film_title','imdbId','tmdbId','description','clean_description']).rename(columns={'value':'\"value\"'}), id_vars=['movieId'])\n",
    "moviedescpivot['attribute_type']='description_Tfidf'\n",
    "moviedescpivot.head(), moviedescpivot.shape\n"
   ]
  },
  {
   "cell_type": "code",
   "execution_count": 29,
   "metadata": {},
   "outputs": [
    {
     "name": "stdout",
     "output_type": "stream",
     "text": [
      "0.08986935330832742\n",
      "(9742, 51)\n"
     ]
    },
    {
     "data": {
      "text/plain": [
       "(   movieId variable     value         attribute_type\n",
       " 0        1        0 -0.006099  description_Tfidf_PCA\n",
       " 1        2        0 -0.014466  description_Tfidf_PCA\n",
       " 2        3        0 -0.011223  description_Tfidf_PCA\n",
       " 3        4        0 -0.014349  description_Tfidf_PCA\n",
       " 4        5        0 -0.011945  description_Tfidf_PCA,\n",
       " (487100, 4))"
      ]
     },
     "execution_count": 29,
     "metadata": {},
     "output_type": "execute_result"
    }
   ],
   "source": [
    "from sklearn.decomposition import PCA\n",
    "n_components=50\n",
    "pca_2=PCA(n_components=n_components)\n",
    "pca_20_output=pca_2.fit_transform(moviedesc.drop(columns=[ 'movieId','title','genres','release_year','film_title','imdbId','tmdbId','description','clean_description']).to_numpy())\n",
    "print(pca_2.explained_variance_ratio_.sum() )\n",
    "pca_pivot=pd.concat([ moviedesc[['movieId']], pd.DataFrame(pca_20_output, columns=range(n_components))], axis=1)\n",
    "print(pca_pivot.shape)\n",
    "pca_pivot=pd.melt(pca_pivot, id_vars=['movieId'])\n",
    "pca_pivot['attribute_type']='description_Tfidf_PCA'\n",
    "pca_pivot.head(),pca_pivot.shape\n"
   ]
  },
  {
   "cell_type": "code",
   "execution_count": null,
   "metadata": {},
   "outputs": [],
   "source": [
    "pca_pivot"
   ]
  },
  {
   "cell_type": "code",
   "execution_count": null,
   "metadata": {},
   "outputs": [],
   "source": [
    "moviedesc.to_csv('./Data/ml-latest-small/movie_description_tfidf.csv', index=False)"
   ]
  },
  {
   "cell_type": "markdown",
   "metadata": {},
   "source": [
    "# Combine data"
   ]
  },
  {
   "cell_type": "markdown",
   "metadata": {},
   "source": [
    "### Movie Fact table"
   ]
  },
  {
   "cell_type": "code",
   "execution_count": 9,
   "metadata": {},
   "outputs": [
    {
     "data": {
      "text/plain": [
       "(9742, 1572, 9742)"
      ]
     },
     "execution_count": 9,
     "metadata": {},
     "output_type": "execute_result"
    }
   ],
   "source": [
    "# check the three datasets which will be combined into movie fact: \n",
    "movielist.movieId.nunique(), movietags.movieId.nunique(), moviedesc.movieId.nunique()"
   ]
  },
  {
   "cell_type": "code",
   "execution_count": 10,
   "metadata": {},
   "outputs": [],
   "source": [
    "moviedesc['description'] = moviedesc['description'].astype(str)\n",
    "\n",
    "#create fact table for movide ID, film title, raw genre list and combined tags text (latter two for traceability)\n",
    "tableau_movie_list=pd.merge(movielist[['movieId', 'film_title','release_year', 'genres_raw']],movietags, on='movieId', how='left' )\n",
    "\n",
    "tableau_movie_list=pd.merge( tableau_movie_list,moviedesc[['movieId', 'description']], on='movieId')\n",
    "tableau_movie_list.head()\n",
    "tableau_movie_list.to_csv('../My Tableau Repository/Data sources/Movies/movie_fact.csv', index=False)"
   ]
  },
  {
   "cell_type": "markdown",
   "metadata": {},
   "source": [
    "### Attributes table (Long)"
   ]
  },
  {
   "cell_type": "code",
   "execution_count": 30,
   "metadata": {},
   "outputs": [
    {
     "data": {
      "text/plain": [
       "(691682, 4)"
      ]
     },
     "execution_count": 30,
     "metadata": {},
     "output_type": "execute_result"
    }
   ],
   "source": [
    "tabeau_movie_dataset=pd.concat([movie_genres_pivot,pca_pivot])  #movie_tags_pivot, moviedescpivot\n",
    "tabeau_movie_dataset=tabeau_movie_dataset.rename(columns={'variable':'attribute'})\n",
    "tabeau_movie_dataset.head()\n",
    "tabeau_movie_dataset.shape"
   ]
  },
  {
   "cell_type": "code",
   "execution_count": 31,
   "metadata": {},
   "outputs": [
    {
     "name": "stdout",
     "output_type": "stream",
     "text": [
      "<class 'pandas.core.frame.DataFrame'>\n",
      "Index: 691682 entries, 0 to 487099\n",
      "Data columns (total 4 columns):\n",
      " #   Column          Non-Null Count   Dtype \n",
      "---  ------          --------------   ----- \n",
      " 0   movieId         691682 non-null  int64 \n",
      " 1   attribute       691682 non-null  object\n",
      " 2   value           691682 non-null  object\n",
      " 3   attribute_type  691682 non-null  object\n",
      "dtypes: int64(1), object(3)\n",
      "memory usage: 26.4+ MB\n"
     ]
    }
   ],
   "source": [
    "tabeau_movie_dataset.info()"
   ]
  },
  {
   "cell_type": "code",
   "execution_count": 22,
   "metadata": {},
   "outputs": [
    {
     "ename": "NameError",
     "evalue": "name 'tableau_movie_list' is not defined",
     "output_type": "error",
     "traceback": [
      "\u001b[1;31m---------------------------------------------------------------------------\u001b[0m",
      "\u001b[1;31mNameError\u001b[0m                                 Traceback (most recent call last)",
      "\u001b[1;32mc:\\Users\\helen\\Documents\\Python\\movieTfidf.ipynb Cell 35\u001b[0m line \u001b[0;36m1\n\u001b[1;32m----> <a href='vscode-notebook-cell:/c%3A/Users/helen/Documents/Python/movieTfidf.ipynb#X45sZmlsZQ%3D%3D?line=0'>1</a>\u001b[0m tableau_movie_list\u001b[39m.\u001b[39mshape, tabeau_movie_dataset\u001b[39m.\u001b[39mshape\n",
      "\u001b[1;31mNameError\u001b[0m: name 'tableau_movie_list' is not defined"
     ]
    }
   ],
   "source": [
    "tableau_movie_list.shape, tabeau_movie_dataset.shape"
   ]
  },
  {
   "cell_type": "code",
   "execution_count": 32,
   "metadata": {},
   "outputs": [],
   "source": [
    "# Save to Tableau data repository\n",
    "tabeau_movie_dataset.to_csv('../My Tableau Repository/Data sources/Movies/movie_pivot_genres_and_descpca.csv', index=False)\n",
    "#tableau_movie_list.to_csv('../My Tableau Repository/Data sources/Movies/movie_fact.csv', index=False)"
   ]
  },
  {
   "cell_type": "code",
   "execution_count": 16,
   "metadata": {},
   "outputs": [
    {
     "data": {
      "text/plain": [
       "(9742, 1572)"
      ]
     },
     "execution_count": 16,
     "metadata": {},
     "output_type": "execute_result"
    }
   ],
   "source": [
    "movielist.movieId.nunique(), movietags.movieId.nunique()"
   ]
  }
 ],
 "metadata": {
  "kernelspec": {
   "display_name": ".venv",
   "language": "python",
   "name": "python3"
  },
  "language_info": {
   "codemirror_mode": {
    "name": "ipython",
    "version": 3
   },
   "file_extension": ".py",
   "mimetype": "text/x-python",
   "name": "python",
   "nbconvert_exporter": "python",
   "pygments_lexer": "ipython3",
   "version": "3.11.5"
  },
  "orig_nbformat": 4
 },
 "nbformat": 4,
 "nbformat_minor": 2
}
